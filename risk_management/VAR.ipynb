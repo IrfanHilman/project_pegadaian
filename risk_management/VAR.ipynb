{
 "cells": [
  {
   "cell_type": "code",
   "execution_count": 2,
   "metadata": {},
   "outputs": [],
   "source": [
    "import pandas as pd\n",
    "import numpy as np\n",
    "import math\n",
    "import datetime\n",
    "\n",
    "pd.options.mode.chained_assignment = None"
   ]
  },
  {
   "cell_type": "markdown",
   "metadata": {},
   "source": [
    "Link database:\n",
    "https://drive.google.com/drive/folders/1C6VFBCvsIt_MclJ-aKVI-rJBof0k7iDf?usp=drive_link"
   ]
  },
  {
   "cell_type": "code",
   "execution_count": null,
   "metadata": {},
   "outputs": [],
   "source": [
    "database_1 = pd.read_csv('/Users/irfanhilman/Downloads/Database/Database Ringkas/Database Part 1.csv')\n",
    "database_2 = pd.read_csv('/Users/irfanhilman/Downloads/Database/Database Ringkas/Database Part 2.csv')\n",
    "database_3 = pd.read_csv('/Users/irfanhilman/Downloads/Database/Database Ringkas/Database Part 3.csv')\n",
    "database_4 = pd.read_csv('/Users/irfanhilman/Downloads/Database/Database Ringkas/Database Part 4.csv')\n",
    "database = pd.concat([database_1,database_2,database_3,database_4])\n",
    "database = database.drop(columns='Unnamed: 0')\n",
    "\n",
    "#Substitusi nilai Open, High, Low Price yg 0 dengan Close Price\n",
    "database['Open Price'] = np.where(database['Open Price'].eq(0),database['Close Price'],database['Open Price'])\n",
    "database['High Price'] = np.where(database['High Price'].eq(0),database['Close Price'],database['High Price'])\n",
    "database['Low Price'] = np.where(database['Low Price'].eq(0),database['Close Price'],database['Low Price'])"
   ]
  },
  {
   "cell_type": "code",
   "execution_count": null,
   "metadata": {},
   "outputs": [],
   "source": [
    "port_performance = pd.read_csv('/Users/irfanhilman/Downloads/Database/backtesting_pegadaian.csv')\n"
   ]
  },
  {
   "cell_type": "code",
   "execution_count": null,
   "metadata": {},
   "outputs": [],
   "source": [
    "list_port_performance = []\n",
    "for i in list(port_performance['Date'].unique()):\n",
    "    port_performance_i = port_performance[port_performance['Date']==i]\n",
    "    if port_performance_i['Action'].unique()[0] == 'SELL':\n",
    "        port_performance_i['Weight'] = port_performance_i['Sold']/sum(port_performance_i['Sold'])\n",
    "    else: pass\n",
    "    list_port_performance.append(port_performance_i)\n",
    "port_performance_ = pd.concat(list_port_performance)"
   ]
  },
  {
   "cell_type": "code",
   "execution_count": null,
   "metadata": {},
   "outputs": [],
   "source": [
    "rolling_dic = {'1 Month':20,'3 Month':60,'6 Month':120,'1 Year':240}\n",
    "def rolling_average(df,param,period):\n",
    "    if f'Average {param} {period}' in df.columns:\n",
    "        df = df.drop(columns=f'Average {param} {period}')\n",
    "    else: pass\n",
    "    init_list = ['Kode','Date']\n",
    "    init_list.append(param)\n",
    "    df['Kode + Date'] = df['Kode'] + df['Date'].astype('str')\n",
    "    df_ = df[init_list]\n",
    "    list_df = []\n",
    "    for i in set(list(df_['Kode'])):\n",
    "        df_i = df_[df_['Kode']==i]\n",
    "        df_i[f'Average {param} {period}'] = df_i[f'{param}'].rolling(rolling_dic[period],min_periods=1).mean() # Min 1 data point\n",
    "        list_df.append(df_i)\n",
    "    df__ = pd.concat(list_df).sort_values(by=['Kode','Date'])\n",
    "    df__['Kode + Date'] = df__['Kode'].astype('str') + df__['Date'].astype('str')\n",
    "    df__ = df__.drop_duplicates(subset='Kode + Date')\n",
    "    df = df.merge(df__[[f'Average {param} {period}','Kode + Date']],on='Kode + Date',how='left')\n",
    "    return df\n",
    "\n",
    "def rolling_stdev(df,param,period):\n",
    "    if f'Stdev {param} {period}' in df.columns:\n",
    "        df = df.drop(columns=f'Stdev {param} {period}')\n",
    "    else: pass\n",
    "    init_list = ['Kode','Date']\n",
    "    init_list.append(param)\n",
    "    df['Kode + Date'] = df['Kode'] + df['Date'].astype('str')\n",
    "    df_ = df[init_list]\n",
    "    list_df = []\n",
    "    for i in set(list(df_['Kode'])):\n",
    "        df_i = df_[df_['Kode']==i]\n",
    "        df_i[f'Stdev {param} {period}'] = df_i[f'{param}'].rolling(rolling_dic[period],min_periods=1).std() # Min 1 data point\n",
    "        list_df.append(df_i)\n",
    "    df__ = pd.concat(list_df).sort_values(by=['Kode','Date'])\n",
    "    df__['Kode + Date'] = df__['Kode'].astype('str') + df__['Date'].astype('str')\n",
    "    df__ = df__.drop_duplicates(subset='Kode + Date')\n",
    "    df = df.merge(df__[[f'Stdev {param} {period}','Kode + Date']],on='Kode + Date',how='left')\n",
    "    return df"
   ]
  },
  {
   "cell_type": "code",
   "execution_count": null,
   "metadata": {},
   "outputs": [],
   "source": [
    "\n",
    "database = rolling_average(df=database,param='Momentum 1 Day',period='1 Year')\n",
    "database = rolling_stdev(df=database,param='Momentum 1 Day',period='1 Year')"
   ]
  },
  {
   "cell_type": "code",
   "execution_count": null,
   "metadata": {},
   "outputs": [],
   "source": [
    "port_performance_ = port_performance_[['Day Number','Date','Kode','Weight','Total Capital']]\n",
    "port_performance_['Kode + Date'] = port_performance_['Kode'].astype('str') + ' ' + port_performance_['Date'].astype('str')\n",
    "database['Kode + Date'] = database['Kode'].astype('str') + ' ' + database['Date'].astype('str')\n",
    "port_performance_ = port_performance_.merge(database[['Kode + Date','Average Momentum 1 Day 1 Year','Stdev Momentum 1 Day 1 Year']],on='Kode + Date',how='left')\n",
    "port_performance_ = port_performance_.drop(columns='Kode + Date')\n",
    "database = database.drop(columns='Kode + Date')\n",
    "port_performance_ = port_performance_.rename(columns={'Average Momentum 1 Day 1 Year':'Expected Return 1 Day in 1 Year','Stdev Momentum 1 Day 1 Year':'Stdev Return 1 Day in 1 Year'})"
   ]
  },
  {
   "cell_type": "code",
   "execution_count": null,
   "metadata": {},
   "outputs": [],
   "source": [
    "day_numbers = 21*3 #number of days for end portfolio value\n",
    "monte_carlo_iter = 10000 #number of iteration in MC simulation\n",
    "confidence_interval = [0.9,0.95]\n",
    "database_sh = database[['Date','Kode','Momentum 1 Day']]\n",
    "port_performance__i_list = []\n",
    "for i in list(port_performance_['Day Number'].unique()):\n",
    "    print(i)\n",
    "    port_performance__i = port_performance_[port_performance_['Day Number']==i]\n",
    "    port_performance__date = port_performance__i['Date'].unique()[0]\n",
    "    port_performance__kode = port_performance__i[['Kode']]\n",
    "    database_sh_i = port_performance__kode.merge(database_sh,on='Kode',how='left')\n",
    "    database_sh_i_j_list = []\n",
    "    for j in list(database_sh_i['Kode'].unique()):\n",
    "        database_sh_i_j = database_sh_i[database_sh_i['Kode']==j]\n",
    "        database_sh_i_j = database_sh_i_j[['Date','Momentum 1 Day']]\n",
    "        database_sh_i_j = database_sh_i_j.rename(columns={'Momentum 1 Day':j})\n",
    "        database_sh_i_j = database_sh_i_j.drop_duplicates(subset='Date')\n",
    "        database_sh_i_j = database_sh_i_j.set_index('Date')\n",
    "        database_sh_i_j_list.append(database_sh_i_j)\n",
    "    database_kode = pd.concat(database_sh_i_j_list,axis=1)\n",
    "    database_kode = database_kode.sort_index()\n",
    "    database_kode = database_kode.iloc[-252:]\n",
    "    database_kode = database_kode.fillna(0)\n",
    "    covariance_matrix = database_kode.cov().values\n",
    "    weights =  port_performance__i['Weight']\n",
    "    portfolio_variance = np.dot(weights.T, np.dot(covariance_matrix, weights))\n",
    "    portfolio_stdev = portfolio_variance**(0.5)\n",
    "    portfolio_exp_return = sum(port_performance__i['Weight']*port_performance__i['Expected Return 1 Day in 1 Year'])\n",
    "    portfolio_total_capital = port_performance__i['Total Capital'].iloc[0]\n",
    "    portfolio_total_capital_list = []\n",
    "    for k in range(monte_carlo_iter):\n",
    "        portfolio_total_capital_ = portfolio_total_capital\n",
    "        for l in range(day_numbers):\n",
    "            portfolio_total_capital_ = portfolio_total_capital_*(1+np.random.normal(portfolio_exp_return, portfolio_stdev))\n",
    "        portfolio_total_capital_list.append(portfolio_total_capital_)\n",
    "    var_1 = np.percentile(portfolio_total_capital_list, 100*(1-confidence_interval[0]))\n",
    "    var_2 = np.percentile(portfolio_total_capital_list, 100*(1-confidence_interval[1]))\n",
    "    port_performance__i[f'VAR {day_numbers} Days at {confidence_interval[0]} CI'] = var_1\n",
    "    port_performance__i[f'VAR {day_numbers} Days at {confidence_interval[1]} CI'] = var_2\n",
    "    port_performance__i[f'VAR {confidence_interval[0]} - Total Capital'] = var_1 - port_performance__i['Total Capital']\n",
    "    port_performance__i[f'VAR {confidence_interval[1]} - Total Capital'] = var_2 - port_performance__i['Total Capital']\n",
    "    port_performance__i[f'VAR {confidence_interval[0]} Deviation'] = port_performance__i[f'VAR {confidence_interval[0]} - Total Capital'] /port_performance__i['Total Capital']\n",
    "    port_performance__i[f'VAR {confidence_interval[1]} Deviation'] = port_performance__i[f'VAR {confidence_interval[1]} - Total Capital'] /port_performance__i['Total Capital']\n",
    "    port_performance__i_list.append(port_performance__i)\n",
    "port_var = pd.concat(port_performance__i_list)\n",
    "port_var = port_var.sort_values(by='Date')\n",
    "port_var = port_var.reset_index(drop=True)\n",
    "    "
   ]
  }
 ],
 "metadata": {
  "kernelspec": {
   "display_name": "base",
   "language": "python",
   "name": "python3"
  },
  "language_info": {
   "codemirror_mode": {
    "name": "ipython",
    "version": 3
   },
   "file_extension": ".py",
   "mimetype": "text/x-python",
   "name": "python",
   "nbconvert_exporter": "python",
   "pygments_lexer": "ipython3",
   "version": "3.9.15"
  }
 },
 "nbformat": 4,
 "nbformat_minor": 2
}
